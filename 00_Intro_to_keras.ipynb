{
 "cells": [
  {
   "cell_type": "markdown",
   "metadata": {},
   "source": [
    "# Intro to keras as part of Tensorflow\n",
    "    - Load MNIST dataset\n",
    "    - Linear model\n",
    "    - Neural model\n",
    "    - Convolutional model"
   ]
  },
  {
   "cell_type": "code",
   "execution_count": 1,
   "metadata": {},
   "outputs": [
    {
     "name": "stderr",
     "output_type": "stream",
     "text": [
      "/home/ubuntu/anaconda3/envs/tf18/lib/python3.5/site-packages/h5py/__init__.py:36: FutureWarning: Conversion of the second argument of issubdtype from `float` to `np.floating` is deprecated. In future, it will be treated as `np.float64 == np.dtype(float).type`.\n",
      "  from ._conv import register_converters as _register_converters\n"
     ]
    },
    {
     "name": "stdout",
     "output_type": "stream",
     "text": [
      "Tensorflow version:  1.8.0\n"
     ]
    }
   ],
   "source": [
    "from __future__ import print_function\n",
    "\n",
    "#Basic libraries\n",
    "import numpy as np\n",
    "import tensorflow as tf\n",
    "print('Tensorflow version: ', tf.__version__)\n",
    "import time\n",
    "\n",
    "#Show images\n",
    "import matplotlib.pyplot as plt\n",
    "%matplotlib inline\n",
    "# plt configuration\n",
    "plt.rcParams['figure.figsize'] = (10, 10)        # size of images\n",
    "plt.rcParams['image.interpolation'] = 'nearest'  # show exact image\n",
    "plt.rcParams['image.cmap'] = 'gray'  # use grayscale \n"
   ]
  },
  {
   "cell_type": "code",
   "execution_count": 2,
   "metadata": {},
   "outputs": [
    {
     "name": "stdout",
     "output_type": "stream",
     "text": [
      "[name: \"/device:CPU:0\"\n",
      "device_type: \"CPU\"\n",
      "memory_limit: 268435456\n",
      "locality {\n",
      "}\n",
      "incarnation: 15367736955144122742\n",
      ", name: \"/device:GPU:0\"\n",
      "device_type: \"GPU\"\n",
      "memory_limit: 11285974221\n",
      "locality {\n",
      "  bus_id: 1\n",
      "  links {\n",
      "  }\n",
      "}\n",
      "incarnation: 8170669686622735436\n",
      "physical_device_desc: \"device: 0, name: Tesla K80, pci bus id: 0000:00:1e.0, compute capability: 3.7\"\n",
      "]\n"
     ]
    }
   ],
   "source": [
    "# Select GPU\n",
    "import os\n",
    "os.environ[\"CUDA_DEVICE_ORDER\"]=\"PCI_BUS_ID\"\n",
    "os.environ[\"CUDA_VISIBLE_DEVICES\"]=\"0\"\n",
    "\n",
    "from tensorflow.python.client import device_lib\n",
    "print(device_lib.list_local_devices())"
   ]
  },
  {
   "cell_type": "markdown",
   "metadata": {},
   "source": [
    "## Get some data"
   ]
  },
  {
   "cell_type": "code",
   "execution_count": 3,
   "metadata": {
    "scrolled": false
   },
   "outputs": [
    {
     "name": "stdout",
     "output_type": "stream",
     "text": [
      "X train shape:  (60000, 28, 28)\n",
      "y train shape:  (60000,)\n",
      "X test shape:  (10000, 28, 28)\n",
      "y test shape:  (10000,)\n"
     ]
    }
   ],
   "source": [
    "# Import mnist dataset and rescale between [0,1]\n",
    "\n",
    "(X_train, y_train), (X_test, y_test) = tf.keras.datasets.mnist.load_data(path='mnist.npz')\n",
    "X_train = X_train.astype('float32')\n",
    "X_test = X_test.astype('float32')\n",
    "X_train /= 255.\n",
    "X_test /= 255.\n",
    "\n",
    "print('X train shape: ',X_train.shape)\n",
    "print('y train shape: ',y_train.shape)\n",
    "print('X test shape: ', X_test.shape)\n",
    "print('y test shape: ', y_test.shape)"
   ]
  },
  {
   "cell_type": "code",
   "execution_count": 4,
   "metadata": {},
   "outputs": [
    {
     "data": {
      "image/png": "[encoded data removed]",
      "text/plain": [
       "<Figure size 432x288 with 32 Axes>"
      ]
     },
     "metadata": {},
     "output_type": "display_data"
    }
   ],
   "source": [
    "#Examine the data\n",
    "plt.rcParams['figure.figsize'] = (10, 10)\n",
    "\n",
    "fig = plt.figure()\n",
    "for n, i in enumerate(range(32)): \n",
    "    a = fig.add_subplot(4,8,n+1)\n",
    "    a.set_title(str(y_test[i]))\n",
    "    fig.tight_layout()\n",
    "    plt.imshow(X_test[i])\n",
    "    "
   ]
  },
  {
   "cell_type": "markdown",
   "metadata": {},
   "source": [
    "## Linear model"
   ]
  },
  {
   "cell_type": "code",
   "execution_count": 5,
   "metadata": {
    "scrolled": true
   },
   "outputs": [
    {
     "name": "stdout",
     "output_type": "stream",
     "text": [
      "Linear model...\n",
      "_________________________________________________________________\n",
      "Layer (type)                 Output Shape              Param #   \n",
      "=================================================================\n",
      "Images (InputLayer)          (None, 28, 28)            0         \n",
      "_________________________________________________________________\n",
      "Flat_image (Flatten)         (None, 784)               0         \n",
      "_________________________________________________________________\n",
      "Dense_output (Dense)         (None, 10)                7850      \n",
      "=================================================================\n",
      "Total params: 7,850\n",
      "Trainable params: 7,850\n",
      "Non-trainable params: 0\n",
      "_________________________________________________________________\n"
     ]
    }
   ],
   "source": [
    "print('Linear model...')\n",
    "\n",
    "images = tf.keras.layers.Input(batch_shape=(None, 28, 28), dtype='float32', name='Images') \n",
    "flat = tf.keras.layers.Flatten(name='Flat_image')(images)\n",
    "output = tf.keras.layers.Dense(10, activation='softmax', name='Dense_output')(flat)\n",
    "\n",
    "# Model Architecture defined\n",
    "model_linear = tf.keras.models.Model(inputs=images, outputs=output)\n",
    "model_linear.summary()\n"
   ]
  },
  {
   "cell_type": "code",
   "execution_count": 6,
   "metadata": {},
   "outputs": [],
   "source": [
    "# Select optimizer and compile model\n",
    "sgd_optimizer = tf.keras.optimizers.SGD(lr=0.01)\n",
    "\n",
    "model_linear.compile(loss='sparse_categorical_crossentropy', \n",
    "                     optimizer=sgd_optimizer, metrics=['accuracy'])"
   ]
  },
  {
   "cell_type": "code",
   "execution_count": 7,
   "metadata": {
    "scrolled": true
   },
   "outputs": [
    {
     "name": "stdout",
     "output_type": "stream",
     "text": [
      "Train on 60000 samples, validate on 10000 samples\n",
      "Epoch 1/50\n",
      "60000/60000 [==============================] - 14s 241us/step - loss: 1.2765 - acc: 0.7069 - val_loss: 0.8109 - val_acc: 0.8337\n",
      "Epoch 2/50\n",
      "60000/60000 [==============================] - 1s 19us/step - loss: 0.7145 - acc: 0.8403 - val_loss: 0.6074 - val_acc: 0.8639\n",
      "Epoch 3/50\n",
      "60000/60000 [==============================] - 1s 19us/step - loss: 0.5869 - acc: 0.8596 - val_loss: 0.5254 - val_acc: 0.8746\n",
      "Epoch 4/50\n",
      "60000/60000 [==============================] - 1s 19us/step - loss: 0.5255 - acc: 0.8689 - val_loss: 0.4799 - val_acc: 0.8803\n",
      "Epoch 5/50\n",
      "60000/60000 [==============================] - 1s 19us/step - loss: 0.4881 - acc: 0.8755 - val_loss: 0.4502 - val_acc: 0.8860\n",
      "Epoch 6/50\n",
      "60000/60000 [==============================] - 1s 19us/step - loss: 0.4623 - acc: 0.8803 - val_loss: 0.4289 - val_acc: 0.8885\n",
      "Epoch 7/50\n",
      "60000/60000 [==============================] - 1s 19us/step - loss: 0.4431 - acc: 0.8829 - val_loss: 0.4129 - val_acc: 0.8923\n",
      "Epoch 8/50\n",
      "60000/60000 [==============================] - 1s 19us/step - loss: 0.4282 - acc: 0.8864 - val_loss: 0.4000 - val_acc: 0.8950\n",
      "Epoch 9/50\n",
      "60000/60000 [==============================] - 1s 19us/step - loss: 0.4162 - acc: 0.8883 - val_loss: 0.3896 - val_acc: 0.8969\n",
      "Epoch 10/50\n",
      "60000/60000 [==============================] - 1s 19us/step - loss: 0.4062 - acc: 0.8907 - val_loss: 0.3812 - val_acc: 0.8987\n",
      "Epoch 11/50\n",
      "60000/60000 [==============================] - 1s 19us/step - loss: 0.3977 - acc: 0.8926 - val_loss: 0.3736 - val_acc: 0.9005\n",
      "Epoch 12/50\n",
      "60000/60000 [==============================] - 1s 19us/step - loss: 0.3904 - acc: 0.8941 - val_loss: 0.3674 - val_acc: 0.9017\n",
      "Epoch 13/50\n",
      "60000/60000 [==============================] - 1s 19us/step - loss: 0.3840 - acc: 0.8956 - val_loss: 0.3618 - val_acc: 0.9026\n",
      "Epoch 14/50\n",
      "60000/60000 [==============================] - 1s 19us/step - loss: 0.3783 - acc: 0.8968 - val_loss: 0.3567 - val_acc: 0.9033\n",
      "Epoch 15/50\n",
      "60000/60000 [==============================] - 1s 19us/step - loss: 0.3733 - acc: 0.8972 - val_loss: 0.3525 - val_acc: 0.9053\n",
      "Epoch 16/50\n",
      "60000/60000 [==============================] - 1s 19us/step - loss: 0.3688 - acc: 0.8985 - val_loss: 0.3484 - val_acc: 0.9055\n",
      "Epoch 17/50\n",
      "60000/60000 [==============================] - 1s 19us/step - loss: 0.3647 - acc: 0.8994 - val_loss: 0.3449 - val_acc: 0.9070\n",
      "Epoch 18/50\n",
      "60000/60000 [==============================] - 1s 19us/step - loss: 0.3609 - acc: 0.9006 - val_loss: 0.3417 - val_acc: 0.9073\n",
      "Epoch 19/50\n",
      "60000/60000 [==============================] - 1s 19us/step - loss: 0.3575 - acc: 0.9011 - val_loss: 0.3392 - val_acc: 0.9075\n",
      "Epoch 20/50\n",
      "60000/60000 [==============================] - 1s 19us/step - loss: 0.3543 - acc: 0.9020 - val_loss: 0.3360 - val_acc: 0.9086\n",
      "Epoch 21/50\n",
      "60000/60000 [==============================] - 1s 19us/step - loss: 0.3514 - acc: 0.9028 - val_loss: 0.3337 - val_acc: 0.9096\n",
      "Epoch 22/50\n",
      "60000/60000 [==============================] - 1s 19us/step - loss: 0.3487 - acc: 0.9036 - val_loss: 0.3312 - val_acc: 0.9100\n",
      "Epoch 23/50\n",
      "60000/60000 [==============================] - 1s 19us/step - loss: 0.3461 - acc: 0.9040 - val_loss: 0.3290 - val_acc: 0.9110\n",
      "Epoch 24/50\n",
      "60000/60000 [==============================] - 1s 19us/step - loss: 0.3438 - acc: 0.9048 - val_loss: 0.3270 - val_acc: 0.9101\n",
      "Epoch 25/50\n",
      "60000/60000 [==============================] - 1s 19us/step - loss: 0.3416 - acc: 0.9050 - val_loss: 0.3251 - val_acc: 0.9119\n",
      "Epoch 26/50\n",
      "60000/60000 [==============================] - 1s 19us/step - loss: 0.3395 - acc: 0.9058 - val_loss: 0.3234 - val_acc: 0.9123\n",
      "Epoch 27/50\n",
      "60000/60000 [==============================] - 1s 19us/step - loss: 0.3374 - acc: 0.9062 - val_loss: 0.3214 - val_acc: 0.9126\n",
      "Epoch 28/50\n",
      "60000/60000 [==============================] - 1s 19us/step - loss: 0.3356 - acc: 0.9066 - val_loss: 0.3202 - val_acc: 0.9137\n",
      "Epoch 29/50\n",
      "60000/60000 [==============================] - 1s 19us/step - loss: 0.3338 - acc: 0.9072 - val_loss: 0.3188 - val_acc: 0.9135\n",
      "Epoch 30/50\n",
      "60000/60000 [==============================] - 1s 19us/step - loss: 0.3321 - acc: 0.9076 - val_loss: 0.3173 - val_acc: 0.9142\n",
      "Epoch 31/50\n",
      "60000/60000 [==============================] - 1s 19us/step - loss: 0.3305 - acc: 0.9079 - val_loss: 0.3160 - val_acc: 0.9144\n",
      "Epoch 32/50\n",
      "60000/60000 [==============================] - 1s 19us/step - loss: 0.3290 - acc: 0.9081 - val_loss: 0.3149 - val_acc: 0.9139\n",
      "Epoch 33/50\n",
      "60000/60000 [==============================] - 1s 19us/step - loss: 0.3275 - acc: 0.9089 - val_loss: 0.3134 - val_acc: 0.9145\n",
      "Epoch 34/50\n",
      "60000/60000 [==============================] - 1s 19us/step - loss: 0.3262 - acc: 0.9092 - val_loss: 0.3124 - val_acc: 0.9148\n",
      "Epoch 35/50\n",
      "60000/60000 [==============================] - 1s 19us/step - loss: 0.3248 - acc: 0.9096 - val_loss: 0.3113 - val_acc: 0.9147\n",
      "Epoch 36/50\n",
      "60000/60000 [==============================] - 1s 19us/step - loss: 0.3235 - acc: 0.9099 - val_loss: 0.3101 - val_acc: 0.9153\n",
      "Epoch 37/50\n",
      "60000/60000 [==============================] - 1s 19us/step - loss: 0.3223 - acc: 0.9102 - val_loss: 0.3092 - val_acc: 0.9152\n",
      "Epoch 38/50\n",
      "60000/60000 [==============================] - 1s 19us/step - loss: 0.3212 - acc: 0.9108 - val_loss: 0.3082 - val_acc: 0.9152\n",
      "Epoch 39/50\n",
      "60000/60000 [==============================] - 1s 19us/step - loss: 0.3200 - acc: 0.9108 - val_loss: 0.3075 - val_acc: 0.9154\n",
      "Epoch 40/50\n",
      "60000/60000 [==============================] - 1s 19us/step - loss: 0.3189 - acc: 0.9112 - val_loss: 0.3067 - val_acc: 0.9155\n",
      "Epoch 41/50\n",
      "60000/60000 [==============================] - 1s 19us/step - loss: 0.3178 - acc: 0.9114 - val_loss: 0.3055 - val_acc: 0.9164\n",
      "Epoch 42/50\n",
      "60000/60000 [==============================] - 1s 19us/step - loss: 0.3169 - acc: 0.9117 - val_loss: 0.3047 - val_acc: 0.9161\n",
      "Epoch 43/50\n",
      "60000/60000 [==============================] - 1s 19us/step - loss: 0.3159 - acc: 0.9120 - val_loss: 0.3040 - val_acc: 0.9165\n",
      "Epoch 44/50\n",
      "60000/60000 [==============================] - 1s 19us/step - loss: 0.3149 - acc: 0.9123 - val_loss: 0.3035 - val_acc: 0.9160\n",
      "Epoch 45/50\n",
      "60000/60000 [==============================] - 1s 19us/step - loss: 0.3140 - acc: 0.9123 - val_loss: 0.3026 - val_acc: 0.9165\n",
      "Epoch 46/50\n",
      "60000/60000 [==============================] - 1s 19us/step - loss: 0.3131 - acc: 0.9128 - val_loss: 0.3020 - val_acc: 0.9166\n",
      "Epoch 47/50\n",
      "60000/60000 [==============================] - 1s 19us/step - loss: 0.3123 - acc: 0.9130 - val_loss: 0.3013 - val_acc: 0.9168\n",
      "Epoch 48/50\n",
      "60000/60000 [==============================] - 1s 19us/step - loss: 0.3115 - acc: 0.9134 - val_loss: 0.3004 - val_acc: 0.9174\n",
      "Epoch 49/50\n",
      "60000/60000 [==============================] - 1s 19us/step - loss: 0.3107 - acc: 0.9136 - val_loss: 0.2999 - val_acc: 0.9168\n",
      "Epoch 50/50\n",
      "60000/60000 [==============================] - 1s 19us/step - loss: 0.3099 - acc: 0.9140 - val_loss: 0.2994 - val_acc: 0.9170\n",
      "Seconds to train:  72.421875\n"
     ]
    }
   ],
   "source": [
    "# Train the model\n",
    "start = time.time()\n",
    "\n",
    "tb_callback_ln = tf.keras.callbacks.TensorBoard(log_dir='./tensorboard/keras/linear/')\n",
    "\n",
    "history_linear = model_linear.fit(X_train, y_train, batch_size=128, epochs=50,\n",
    "                                  verbose=1, validation_data=(X_test, y_test), callbacks=[tb_callback_ln])\n",
    "\n",
    "print('Seconds to train: ', time.time() - start)"
   ]
  },
  {
   "cell_type": "code",
   "execution_count": 8,
   "metadata": {},
   "outputs": [
    {
     "data": {
      "image/png": "[encoded data removed]",
      "text/plain": [
       "<Figure size 432x288 with 1 Axes>"
      ]
     },
     "metadata": {},
     "output_type": "display_data"
    }
   ],
   "source": [
    "plt.plot(history_linear.history['acc'], label='Trn acc')\n",
    "plt.plot(history_linear.history['val_acc'], label='Val acc')\n",
    "plt.legend(loc='lower right')\n",
    "plt.show()"
   ]
  },
  {
   "cell_type": "code",
   "execution_count": 9,
   "metadata": {},
   "outputs": [
    {
     "name": "stdout",
     "output_type": "stream",
     "text": [
      "[[ 959    0    2    2    0    5    9    1    2    0]\n",
      " [   0 1105    2    2    0    3    4    1   18    0]\n",
      " [  11    5  905   16   13    1   15   16   42    8]\n",
      " [   3    1   21  918    1   23    3   12   17   11]\n",
      " [   1    1    4    1  916    0   11    2    8   38]\n",
      " [  10    3    5   34    8  770   16    7   31    8]\n",
      " [  15    3    3    2   14   13  904    1    3    0]\n",
      " [   2   13   22    8    8    0    0  938    2   35]\n",
      " [   9    9    8   21    9   24   13   14  857   10]\n",
      " [  12    7    3   10   42    7    0   24    6  898]]\n"
     ]
    }
   ],
   "source": [
    "# Score and select prediction with max prob\n",
    "import numpy as np\n",
    "p_test = model_linear.predict(X_test)\n",
    "pred_test = np.argmax(p_test, axis=1)\n",
    "\n",
    "\n",
    "#Evaluate the confusion matrix\n",
    "from sklearn.metrics import confusion_matrix\n",
    "print(confusion_matrix(y_test,pred_test))"
   ]
  },
  {
   "cell_type": "markdown",
   "metadata": {},
   "source": [
    "## Neural network model "
   ]
  },
  {
   "cell_type": "code",
   "execution_count": 10,
   "metadata": {},
   "outputs": [
    {
     "name": "stdout",
     "output_type": "stream",
     "text": [
      "NN model...\n",
      "_________________________________________________________________\n",
      "Layer (type)                 Output Shape              Param #   \n",
      "=================================================================\n",
      "Images (InputLayer)          (None, 28, 28)            0         \n",
      "_________________________________________________________________\n",
      "Flat_image (Flatten)         (None, 784)               0         \n",
      "_________________________________________________________________\n",
      "Dense_layer (Dense)          (None, 500)               392500    \n",
      "_________________________________________________________________\n",
      "Dense_output (Dense)         (None, 10)                5010      \n",
      "=================================================================\n",
      "Total params: 397,510\n",
      "Trainable params: 397,510\n",
      "Non-trainable params: 0\n",
      "_________________________________________________________________\n"
     ]
    }
   ],
   "source": [
    "print('NN model...')\n",
    "\n",
    "images = tf.keras.layers.Input(batch_shape=(None, 28, 28), dtype='float32', name='Images') \n",
    "flat   = tf.keras.layers.Flatten(name='Flat_image')(images)\n",
    "dense  = tf.keras.layers.Dense(500, activation='relu', name='Dense_layer')(flat)\n",
    "output = tf.keras.layers.Dense(10, activation='softmax', name='Dense_output')(dense)\n",
    "\n",
    "# Model Architecture defined\n",
    "model_nn = tf.keras.models.Model(inputs=images, outputs=output)\n",
    "model_nn.summary()\n"
   ]
  },
  {
   "cell_type": "code",
   "execution_count": 11,
   "metadata": {},
   "outputs": [],
   "source": [
    "sgd_optimizer = tf.keras.optimizers.SGD(lr=0.01)\n",
    "model_nn.compile(loss='sparse_categorical_crossentropy', \n",
    "                 optimizer=sgd_optimizer, metrics=['accuracy'])\n"
   ]
  },
  {
   "cell_type": "code",
   "execution_count": 12,
   "metadata": {},
   "outputs": [
    {
     "name": "stdout",
     "output_type": "stream",
     "text": [
      "Train on 60000 samples, validate on 10000 samples\n",
      "Epoch 1/50\n",
      "60000/60000 [==============================] - 2s 28us/step - loss: 1.0965 - acc: 0.7639 - val_loss: 0.5863 - val_acc: 0.8733\n",
      "Epoch 2/50\n",
      "60000/60000 [==============================] - 2s 25us/step - loss: 0.5156 - acc: 0.8750 - val_loss: 0.4267 - val_acc: 0.8943\n",
      "Epoch 3/50\n",
      "60000/60000 [==============================] - 2s 25us/step - loss: 0.4168 - acc: 0.8913 - val_loss: 0.3690 - val_acc: 0.9033\n",
      "Epoch 4/50\n",
      "60000/60000 [==============================] - 2s 25us/step - loss: 0.3721 - acc: 0.8997 - val_loss: 0.3369 - val_acc: 0.9089\n",
      "Epoch 5/50\n",
      "60000/60000 [==============================] - 2s 25us/step - loss: 0.3444 - acc: 0.9054 - val_loss: 0.3161 - val_acc: 0.9135\n",
      "Epoch 6/50\n",
      "60000/60000 [==============================] - 2s 25us/step - loss: 0.3246 - acc: 0.9103 - val_loss: 0.3012 - val_acc: 0.9161\n",
      "Epoch 7/50\n",
      "60000/60000 [==============================] - 2s 25us/step - loss: 0.3091 - acc: 0.9138 - val_loss: 0.2878 - val_acc: 0.9213\n",
      "Epoch 8/50\n",
      "60000/60000 [==============================] - 2s 25us/step - loss: 0.2962 - acc: 0.9174 - val_loss: 0.2776 - val_acc: 0.9253\n",
      "Epoch 9/50\n",
      "60000/60000 [==============================] - 2s 25us/step - loss: 0.2850 - acc: 0.9210 - val_loss: 0.2676 - val_acc: 0.9265\n",
      "Epoch 10/50\n",
      "60000/60000 [==============================] - 2s 25us/step - loss: 0.2752 - acc: 0.9237 - val_loss: 0.2595 - val_acc: 0.9271\n",
      "Epoch 11/50\n",
      "60000/60000 [==============================] - 2s 25us/step - loss: 0.2665 - acc: 0.9258 - val_loss: 0.2517 - val_acc: 0.9304\n",
      "Epoch 12/50\n",
      "60000/60000 [==============================] - 2s 25us/step - loss: 0.2585 - acc: 0.9284 - val_loss: 0.2455 - val_acc: 0.9313\n",
      "Epoch 13/50\n",
      "60000/60000 [==============================] - 2s 25us/step - loss: 0.2512 - acc: 0.9301 - val_loss: 0.2383 - val_acc: 0.9334\n",
      "Epoch 14/50\n",
      "60000/60000 [==============================] - 2s 25us/step - loss: 0.2444 - acc: 0.9321 - val_loss: 0.2327 - val_acc: 0.9358\n",
      "Epoch 15/50\n",
      "60000/60000 [==============================] - 2s 25us/step - loss: 0.2380 - acc: 0.9344 - val_loss: 0.2281 - val_acc: 0.9355\n",
      "Epoch 16/50\n",
      "60000/60000 [==============================] - 2s 25us/step - loss: 0.2321 - acc: 0.9354 - val_loss: 0.2221 - val_acc: 0.9384\n",
      "Epoch 17/50\n",
      "60000/60000 [==============================] - 2s 25us/step - loss: 0.2266 - acc: 0.9374 - val_loss: 0.2173 - val_acc: 0.9392\n",
      "Epoch 18/50\n",
      "60000/60000 [==============================] - 2s 25us/step - loss: 0.2212 - acc: 0.9388 - val_loss: 0.2133 - val_acc: 0.9401\n",
      "Epoch 19/50\n",
      "60000/60000 [==============================] - 2s 25us/step - loss: 0.2161 - acc: 0.9405 - val_loss: 0.2084 - val_acc: 0.9411\n",
      "Epoch 20/50\n",
      "60000/60000 [==============================] - 2s 25us/step - loss: 0.2114 - acc: 0.9418 - val_loss: 0.2045 - val_acc: 0.9418\n",
      "Epoch 21/50\n",
      "60000/60000 [==============================] - 2s 25us/step - loss: 0.2068 - acc: 0.9426 - val_loss: 0.2007 - val_acc: 0.9430\n",
      "Epoch 22/50\n",
      "60000/60000 [==============================] - 2s 25us/step - loss: 0.2025 - acc: 0.9438 - val_loss: 0.1961 - val_acc: 0.9441\n",
      "Epoch 23/50\n",
      "60000/60000 [==============================] - 2s 25us/step - loss: 0.1982 - acc: 0.9449 - val_loss: 0.1927 - val_acc: 0.9445\n",
      "Epoch 24/50\n",
      "60000/60000 [==============================] - 2s 25us/step - loss: 0.1943 - acc: 0.9462 - val_loss: 0.1890 - val_acc: 0.9456\n",
      "Epoch 25/50\n",
      "60000/60000 [==============================] - 2s 25us/step - loss: 0.1905 - acc: 0.9473 - val_loss: 0.1857 - val_acc: 0.9457\n",
      "Epoch 26/50\n",
      "60000/60000 [==============================] - 2s 25us/step - loss: 0.1868 - acc: 0.9480 - val_loss: 0.1826 - val_acc: 0.9473\n",
      "Epoch 27/50\n",
      "60000/60000 [==============================] - 2s 25us/step - loss: 0.1832 - acc: 0.9493 - val_loss: 0.1803 - val_acc: 0.9477\n",
      "Epoch 28/50\n",
      "60000/60000 [==============================] - 2s 25us/step - loss: 0.1797 - acc: 0.9503 - val_loss: 0.1770 - val_acc: 0.9479\n",
      "Epoch 29/50\n",
      "60000/60000 [==============================] - 2s 25us/step - loss: 0.1765 - acc: 0.9508 - val_loss: 0.1739 - val_acc: 0.9493\n",
      "Epoch 30/50\n",
      "60000/60000 [==============================] - 2s 25us/step - loss: 0.1732 - acc: 0.9520 - val_loss: 0.1715 - val_acc: 0.9508\n",
      "Epoch 31/50\n",
      "60000/60000 [==============================] - 2s 25us/step - loss: 0.1702 - acc: 0.9528 - val_loss: 0.1690 - val_acc: 0.9511\n",
      "Epoch 32/50\n",
      "60000/60000 [==============================] - 2s 25us/step - loss: 0.1673 - acc: 0.9534 - val_loss: 0.1669 - val_acc: 0.9525\n",
      "Epoch 33/50\n",
      "60000/60000 [==============================] - 2s 25us/step - loss: 0.1645 - acc: 0.9542 - val_loss: 0.1638 - val_acc: 0.9534\n",
      "Epoch 34/50\n",
      "60000/60000 [==============================] - 2s 25us/step - loss: 0.1618 - acc: 0.9549 - val_loss: 0.1614 - val_acc: 0.9534\n",
      "Epoch 35/50\n",
      "60000/60000 [==============================] - 2s 25us/step - loss: 0.1591 - acc: 0.9557 - val_loss: 0.1588 - val_acc: 0.9543\n",
      "Epoch 36/50\n",
      "60000/60000 [==============================] - 2s 25us/step - loss: 0.1565 - acc: 0.9563 - val_loss: 0.1566 - val_acc: 0.9551\n",
      "Epoch 37/50\n",
      "60000/60000 [==============================] - 2s 25us/step - loss: 0.1540 - acc: 0.9574 - val_loss: 0.1550 - val_acc: 0.9553\n",
      "Epoch 38/50\n",
      "60000/60000 [==============================] - 2s 25us/step - loss: 0.1516 - acc: 0.9579 - val_loss: 0.1526 - val_acc: 0.9562\n",
      "Epoch 39/50\n",
      "60000/60000 [==============================] - 2s 25us/step - loss: 0.1493 - acc: 0.9586 - val_loss: 0.1509 - val_acc: 0.9567\n",
      "Epoch 40/50\n",
      "60000/60000 [==============================] - 2s 25us/step - loss: 0.1470 - acc: 0.9594 - val_loss: 0.1487 - val_acc: 0.9569\n",
      "Epoch 41/50\n",
      "60000/60000 [==============================] - 2s 25us/step - loss: 0.1448 - acc: 0.9600 - val_loss: 0.1463 - val_acc: 0.9578\n",
      "Epoch 42/50\n",
      "60000/60000 [==============================] - 2s 25us/step - loss: 0.1427 - acc: 0.9605 - val_loss: 0.1454 - val_acc: 0.9584\n",
      "Epoch 43/50\n",
      "60000/60000 [==============================] - 2s 25us/step - loss: 0.1406 - acc: 0.9612 - val_loss: 0.1433 - val_acc: 0.9577\n",
      "Epoch 44/50\n",
      "60000/60000 [==============================] - 2s 25us/step - loss: 0.1386 - acc: 0.9616 - val_loss: 0.1418 - val_acc: 0.9590\n",
      "Epoch 45/50\n",
      "60000/60000 [==============================] - 2s 25us/step - loss: 0.1366 - acc: 0.9623 - val_loss: 0.1403 - val_acc: 0.9590\n",
      "Epoch 46/50\n",
      "60000/60000 [==============================] - 2s 25us/step - loss: 0.1347 - acc: 0.9630 - val_loss: 0.1380 - val_acc: 0.9601\n",
      "Epoch 47/50\n",
      "60000/60000 [==============================] - 2s 25us/step - loss: 0.1329 - acc: 0.9635 - val_loss: 0.1367 - val_acc: 0.9596\n",
      "Epoch 48/50\n",
      "60000/60000 [==============================] - 2s 25us/step - loss: 0.1310 - acc: 0.9643 - val_loss: 0.1346 - val_acc: 0.9613\n",
      "Epoch 49/50\n",
      "60000/60000 [==============================] - 2s 25us/step - loss: 0.1292 - acc: 0.9647 - val_loss: 0.1344 - val_acc: 0.9611\n",
      "Epoch 50/50\n",
      "60000/60000 [==============================] - 2s 26us/step - loss: 0.1275 - acc: 0.9652 - val_loss: 0.1320 - val_acc: 0.9617\n",
      "Seconds to train:  76.27897357940674\n"
     ]
    }
   ],
   "source": [
    "# Train the model\n",
    "start = time.time()\n",
    "\n",
    "tb_callback_nn = tf.keras.callbacks.TensorBoard(log_dir='./tensorboard/keras/neural/')\n",
    "\n",
    "history_nn = model_nn.fit(X_train, y_train, batch_size=128, epochs=50,\n",
    "                    verbose=1, validation_data=(X_test, y_test), callbacks=[tb_callback_nn])\n",
    "\n",
    "print('Seconds to train: ', time.time() - start)"
   ]
  },
  {
   "cell_type": "code",
   "execution_count": 13,
   "metadata": {},
   "outputs": [
    {
     "data": {
      "image/png": "[encoded data removed]",
      "text/plain": [
       "<Figure size 432x288 with 1 Axes>"
      ]
     },
     "metadata": {},
     "output_type": "display_data"
    }
   ],
   "source": [
    "plt.plot(history_nn.history['acc'], label='Trn acc')\n",
    "plt.plot(history_nn.history['val_acc'], label='Val acc')\n",
    "plt.legend(loc='lower right')\n",
    "plt.show()"
   ]
  },
  {
   "cell_type": "code",
   "execution_count": 14,
   "metadata": {},
   "outputs": [
    {
     "data": {
      "image/png": "[encoded data removed]",
      "text/plain": [
       "<Figure size 432x288 with 1 Axes>"
      ]
     },
     "metadata": {},
     "output_type": "display_data"
    }
   ],
   "source": [
    "# Compare the two models\n",
    "plt.plot(history_linear.history['val_acc'], label='Linear')\n",
    "plt.plot(history_nn.history['val_acc'], label='NN')\n",
    "plt.legend(loc='lower right')\n",
    "plt.show()"
   ]
  },
  {
   "cell_type": "markdown",
   "metadata": {},
   "source": [
    "## Convolutional model"
   ]
  },
  {
   "cell_type": "code",
   "execution_count": 15,
   "metadata": {},
   "outputs": [
    {
     "name": "stdout",
     "output_type": "stream",
     "text": [
      "Convolutional model...\n",
      "LeNet architecture.\n",
      "_________________________________________________________________\n",
      "Layer (type)                 Output Shape              Param #   \n",
      "=================================================================\n",
      "Images (InputLayer)          (None, 28, 28, 1)         0         \n",
      "_________________________________________________________________\n",
      "conv2d_1 (Conv2D)            (None, 24, 24, 20)        520       \n",
      "_________________________________________________________________\n",
      "max_pooling2d_1 (MaxPooling2 (None, 12, 12, 20)        0         \n",
      "_________________________________________________________________\n",
      "conv2d_2 (Conv2D)            (None, 8, 8, 20)          10020     \n",
      "_________________________________________________________________\n",
      "max_pooling2d_2 (MaxPooling2 (None, 4, 4, 20)          0         \n",
      "_________________________________________________________________\n",
      "Flat_image (Flatten)         (None, 320)               0         \n",
      "_________________________________________________________________\n",
      "Dense_1 (Dense)              (None, 500)               160500    \n",
      "_________________________________________________________________\n",
      "Dense_output (Dense)         (None, 10)                5010      \n",
      "=================================================================\n",
      "Total params: 176,050\n",
      "Trainable params: 176,050\n",
      "Non-trainable params: 0\n",
      "_________________________________________________________________\n"
     ]
    }
   ],
   "source": [
    "#Define the model\n",
    "print('Convolutional model...')\n",
    "print('LeNet architecture.')\n",
    "\n",
    "#Inputs\n",
    "images = tf.keras.layers.Input(batch_shape=(None, 28, 28, 1), dtype='float32', name='Images')\n",
    "\n",
    "#First convolutional layer\n",
    "conv1 = tf.keras.layers.Conv2D(20, (5,5))(images)\n",
    "pool1 = tf.keras.layers.MaxPooling2D(pool_size=(2, 2))(conv1)\n",
    "\n",
    "#Second convolutional layer\n",
    "conv2 = tf.keras.layers.Conv2D(20, (5,5))(pool1)\n",
    "pool2 = tf.keras.layers.MaxPooling2D(pool_size=(2, 2))(conv2)\n",
    "\n",
    "#Flatten convolution output\n",
    "flat = tf.keras.layers.Flatten(name='Flat_image')(pool2)\n",
    "\n",
    "# First dense layer\n",
    "dense1 = tf.keras.layers.Dense(500, activation='relu', name='Dense_1')(flat)\n",
    "\n",
    "# Second dense layer\n",
    "output = tf.keras.layers.Dense(10, activation='softmax', name='Dense_output')(dense1)\n",
    "\n",
    "# Model Architecture defined\n",
    "model_conv = tf.keras.models.Model(inputs=images, outputs=output)\n",
    "model_conv.summary()\n"
   ]
  },
  {
   "cell_type": "code",
   "execution_count": 16,
   "metadata": {},
   "outputs": [],
   "source": [
    "# Compile model and select optimizer\n",
    "sgd_optimizer = tf.keras.optimizers.SGD(lr=0.01)\n",
    "model_conv.compile(loss='sparse_categorical_crossentropy', optimizer=sgd_optimizer, metrics=['accuracy'])\n"
   ]
  },
  {
   "cell_type": "code",
   "execution_count": 17,
   "metadata": {},
   "outputs": [
    {
     "name": "stdout",
     "output_type": "stream",
     "text": [
      "Train on 60000 samples, validate on 10000 samples\n",
      "Epoch 1/10\n",
      "60000/60000 [==============================] - 44s 728us/step - loss: 1.0300 - acc: 0.7297 - val_loss: 0.3402 - val_acc: 0.8982\n",
      "Epoch 2/10\n",
      "60000/60000 [==============================] - 3s 48us/step - loss: 0.2871 - acc: 0.9153 - val_loss: 0.2299 - val_acc: 0.9338\n",
      "Epoch 3/10\n",
      "60000/60000 [==============================] - 3s 47us/step - loss: 0.2103 - acc: 0.9371 - val_loss: 0.1709 - val_acc: 0.9502\n",
      "Epoch 4/10\n",
      "60000/60000 [==============================] - 3s 47us/step - loss: 0.1676 - acc: 0.9504 - val_loss: 0.1404 - val_acc: 0.9569\n",
      "Epoch 5/10\n",
      "60000/60000 [==============================] - 3s 48us/step - loss: 0.1394 - acc: 0.9591 - val_loss: 0.1290 - val_acc: 0.9581\n",
      "Epoch 6/10\n",
      "60000/60000 [==============================] - 3s 48us/step - loss: 0.1199 - acc: 0.9649 - val_loss: 0.1182 - val_acc: 0.9655\n",
      "Epoch 7/10\n",
      "60000/60000 [==============================] - 3s 47us/step - loss: 0.1059 - acc: 0.9688 - val_loss: 0.0897 - val_acc: 0.9731\n",
      "Epoch 8/10\n",
      "60000/60000 [==============================] - 3s 47us/step - loss: 0.0951 - acc: 0.9718 - val_loss: 0.0823 - val_acc: 0.9767\n",
      "Epoch 9/10\n",
      "60000/60000 [==============================] - 3s 47us/step - loss: 0.0869 - acc: 0.9741 - val_loss: 0.0794 - val_acc: 0.9760\n",
      "Epoch 10/10\n",
      "60000/60000 [==============================] - 3s 48us/step - loss: 0.0799 - acc: 0.9763 - val_loss: 0.0801 - val_acc: 0.9753\n",
      "Seconds to train:  69.88238739967346\n"
     ]
    }
   ],
   "source": [
    "# Train the model\n",
    "X_train_img = X_train.reshape(X_train.shape[0], 28, 28, 1) \n",
    "X_test_img = X_test.reshape(X_test.shape[0], 28, 28, 1)\n",
    "\n",
    "start = time.time()\n",
    "\n",
    "tb_callback_cnn = tf.keras.callbacks.TensorBoard(log_dir='./tensorboard/keras/CNN/')\n",
    "\n",
    "history = model_conv.fit(X_train_img, y_train, batch_size=128, epochs=10,\n",
    "                    verbose=1, validation_data=(X_test_img, y_test), callbacks=[tb_callback_cnn])\n",
    "\n",
    "print('Seconds to train: ', time.time() - start)"
   ]
  },
  {
   "cell_type": "code",
   "execution_count": 18,
   "metadata": {},
   "outputs": [
    {
     "data": {
      "image/png": "[encoded data removed]",
      "text/plain": [
       "<Figure size 432x288 with 1 Axes>"
      ]
     },
     "metadata": {},
     "output_type": "display_data"
    }
   ],
   "source": [
    "#Compare with previous\n",
    "# Compare the two models\n",
    "plt.plot(history_linear.history['val_acc'], label='Linear')\n",
    "plt.plot(history_nn.history['val_acc'], label='NN')\n",
    "plt.plot(history.history['val_acc'], label='Conv')\n",
    "plt.legend(loc='lower right')\n",
    "plt.show()\n"
   ]
  },
  {
   "cell_type": "code",
   "execution_count": 19,
   "metadata": {},
   "outputs": [
    {
     "name": "stdout",
     "output_type": "stream",
     "text": [
      "[[ 970    0    1    1    0    1    4    1    2    0]\n",
      " [   0 1128    2    1    0    0    2    0    2    0]\n",
      " [   1    1 1015    6    1    1    0    6    1    0]\n",
      " [   1    0    3  996    0    3    0    4    3    0]\n",
      " [   1    0    5    1  927    1    5    4    2   36]\n",
      " [   2    1    0   12    0  868    4    2    1    2]\n",
      " [   5    3    0    1    1    2  946    0    0    0]\n",
      " [   0    6   14    3    0    0    0  999    1    5]\n",
      " [   3    1    4   12    2    5    4    6  933    4]\n",
      " [   4    6    1   11    2    6    1    7    0  971]]\n"
     ]
    }
   ],
   "source": [
    "# Score and select prediction with max prob\n",
    "import numpy as np\n",
    "p_test = model_conv.predict(X_test_img)\n",
    "pred_test = np.argmax(p_test, axis=1)\n",
    "\n",
    "#Evaluate the confusion matrix\n",
    "from sklearn.metrics import confusion_matrix\n",
    "print(confusion_matrix(y_test, pred_test))"
   ]
  },
  {
   "cell_type": "code",
   "execution_count": 21,
   "metadata": {},
   "outputs": [
    {
     "name": "stdout",
     "output_type": "stream",
     "text": [
      "n:  1 - Pred 1: 7(0.360) - Pred 2: 8(0.316)\n",
      "n:  2 - Pred 1: 2(0.974) - Pred 2: 4(0.015)\n",
      "n:  3 - Pred 1: 0(0.947) - Pred 2: 6(0.027)\n",
      "n:  4 - Pred 1: 1(0.569) - Pred 2: 9(0.245)\n",
      "n:  5 - Pred 1: 7(0.521) - Pred 2: 2(0.351)\n",
      "n:  6 - Pred 1: 3(0.894) - Pred 2: 5(0.104)\n",
      "n:  7 - Pred 1: 0(0.811) - Pred 2: 6(0.138)\n",
      "n:  8 - Pred 1: 5(0.668) - Pred 2: 3(0.332)\n",
      "n:  9 - Pred 1: 2(0.714) - Pred 2: 0(0.230)\n",
      "n: 10 - Pred 1: 9(0.526) - Pred 2: 4(0.468)\n",
      "n: 11 - Pred 1: 9(0.765) - Pred 2: 4(0.228)\n",
      "n: 12 - Pred 1: 2(0.741) - Pred 2: 3(0.115)\n",
      "n: 13 - Pred 1: 7(0.808) - Pred 2: 3(0.090)\n",
      "n: 14 - Pred 1: 3(0.499) - Pred 2: 8(0.363)\n",
      "n: 15 - Pred 1: 3(0.296) - Pred 2: 1(0.282)\n",
      "n: 16 - Pred 1: 3(0.337) - Pred 2: 7(0.336)\n",
      "n: 17 - Pred 1: 9(0.994) - Pred 2: 4(0.004)\n",
      "n: 18 - Pred 1: 6(0.393) - Pred 2: 0(0.321)\n",
      "n: 19 - Pred 1: 8(0.692) - Pred 2: 6(0.172)\n",
      "n: 20 - Pred 1: 9(0.913) - Pred 2: 4(0.082)\n",
      "n: 21 - Pred 1: 2(0.555) - Pred 2: 7(0.404)\n",
      "n: 22 - Pred 1: 7(0.509) - Pred 2: 9(0.432)\n",
      "n: 23 - Pred 1: 9(0.580) - Pred 2: 8(0.418)\n",
      "n: 24 - Pred 1: 7(0.826) - Pred 2: 5(0.124)\n",
      "n: 25 - Pred 1: 9(0.320) - Pred 2: 4(0.261)\n",
      "n: 26 - Pred 1: 0(0.935) - Pred 2: 6(0.045)\n",
      "n: 27 - Pred 1: 9(0.674) - Pred 2: 4(0.209)\n",
      "n: 28 - Pred 1: 3(0.557) - Pred 2: 5(0.440)\n",
      "n: 29 - Pred 1: 5(0.865) - Pred 2: 2(0.048)\n",
      "n: 30 - Pred 1: 1(0.633) - Pred 2: 2(0.164)\n",
      "n: 31 - Pred 1: 9(0.519) - Pred 2: 4(0.475)\n",
      "n: 32 - Pred 1: 6(0.955) - Pred 2: 0(0.035)\n",
      "Num errors:  32\n"
     ]
    },
    {
     "data": {
      "image/png": "[encoded data removed]",
      "text/plain": [
       "<Figure size 720x720 with 32 Axes>"
      ]
     },
     "metadata": {},
     "output_type": "display_data"
    }
   ],
   "source": [
    "#Print probabilities to the first erros\n",
    "plt.rcParams['figure.figsize'] = (10, 10)\n",
    "\n",
    "test_errors=[]\n",
    "test_errors_real=[]\n",
    "test_errors_predict=[]\n",
    "num_errors = 32\n",
    "n = 0\n",
    "for i in range(len(pred_test)):\n",
    "    if pred_test[i] != y_test[i] and n < num_errors: #Error!\n",
    "        n += 1\n",
    "        test_errors += [X_test_img[i,:,:,0]]\n",
    "        test_errors_real += [y_test[i]]\n",
    "        test_errors_predict += [pred_test[i]]\n",
    "        \n",
    "        #Print first propabilities\n",
    "        index = p_test[i].argsort()[::-1]\n",
    "        print('n: %2i - Pred 1: %1i(%0.3f) - Pred 2: %1i(%0.3f)' % (n,\n",
    "              index[0], p_test[i][index[0]], index[1], p_test[i][index[1]]))\n",
    "        \n",
    "print(\"Num errors: \", len(test_errors))\n",
    "\n",
    "\n",
    "#Plot 32 images wrong classified.\n",
    "fig = plt.figure()\n",
    "for n, i in enumerate(range(32)): \n",
    "    a = fig.add_subplot(4,8,n+1)\n",
    "    a.set_title('R:'+str(test_errors_real[i])+' - P:'+str(test_errors_predict[i]))\n",
    "    fig.tight_layout()\n",
    "    plt.imshow(test_errors[i])\n",
    "    "
   ]
  },
  {
   "cell_type": "markdown",
   "metadata": {
    "collapsed": true
   },
   "source": [
    "# Example of usage of a generator to provide data to the training\n",
    "    - Define a batch generator\n",
    "    - Use it in the train process"
   ]
  },
  {
   "cell_type": "code",
   "execution_count": 22,
   "metadata": {},
   "outputs": [],
   "source": [
    "# New model. Equal to the last.\n",
    "model_conv2 = tf.keras.models.Model(inputs=images, outputs=output)\n",
    "\n",
    "sgd_optimizer = tf.keras.optimizers.SGD(lr=0.01, momentum=0.99, decay=0.005, nesterov=True)\n",
    "model_conv2.compile(loss='sparse_categorical_crossentropy', optimizer=sgd_optimizer, metrics=['accuracy'])\n"
   ]
  },
  {
   "cell_type": "code",
   "execution_count": 23,
   "metadata": {},
   "outputs": [],
   "source": [
    "# Define a generator to X_train. Same code to an HDF5 source\n",
    "def batch_generator(X, y, batch_size=64):\n",
    "    data_size = X.shape[0]\n",
    "    while 1:\n",
    "        # Randomize batches in each epoch\n",
    "        batch_randomized = np.random.permutation(range(0, data_size-batch_size, batch_size))\n",
    "        # Iterate over each batch\n",
    "        for batch in batch_randomized:\n",
    "            x_batch = X[batch : batch+batch_size]\n",
    "            y_batch = y[batch : batch+batch_size]\n",
    "            yield x_batch, y_batch"
   ]
  },
  {
   "cell_type": "code",
   "execution_count": 24,
   "metadata": {},
   "outputs": [
    {
     "name": "stdout",
     "output_type": "stream",
     "text": [
      "(28, 28, 1)\n",
      "[0 7 4 9 7 8 3 2 1 1 8 3 6 1 0 3 1 0 0 1 7 2 7 3 0 4 6 5 2 6 4 7 1 8 9 9 3\n",
      " 0 7 1 0 2 0 3 5 4 6 5 8 6 3 7 5 8 0 9 1 0 3 1 2 2 3 3]\n"
     ]
    }
   ],
   "source": [
    "#Test the generator\n",
    "seq = batch_generator(X_train_img, y_train)    \n",
    "next_seq = next(seq)\n",
    "print(next_seq[0][0].shape)\n",
    "print(next_seq[1])\n"
   ]
  },
  {
   "cell_type": "code",
   "execution_count": 25,
   "metadata": {},
   "outputs": [
    {
     "name": "stdout",
     "output_type": "stream",
     "text": [
      "Epoch 1/10\n",
      "937/937 [==============================] - 5s 6ms/step - loss: 0.1217 - acc: 0.9653 - val_loss: 0.0451 - val_acc: 0.9858\n",
      "Epoch 2/10\n",
      "937/937 [==============================] - 5s 5ms/step - loss: 0.0349 - acc: 0.9895 - val_loss: 0.0340 - val_acc: 0.9883\n",
      "Epoch 3/10\n",
      "937/937 [==============================] - 5s 5ms/step - loss: 0.0180 - acc: 0.9942 - val_loss: 0.0316 - val_acc: 0.9893\n",
      "Epoch 4/10\n",
      "937/937 [==============================] - 5s 5ms/step - loss: 0.0125 - acc: 0.9962 - val_loss: 0.0312 - val_acc: 0.9895\n",
      "Epoch 5/10\n",
      "937/937 [==============================] - 5s 5ms/step - loss: 0.0092 - acc: 0.9977 - val_loss: 0.0301 - val_acc: 0.9901\n",
      "Epoch 6/10\n",
      "937/937 [==============================] - 5s 5ms/step - loss: 0.0076 - acc: 0.9981 - val_loss: 0.0302 - val_acc: 0.9905\n",
      "Epoch 7/10\n",
      "937/937 [==============================] - 5s 5ms/step - loss: 0.0062 - acc: 0.9987 - val_loss: 0.0306 - val_acc: 0.9904\n",
      "Epoch 8/10\n",
      "937/937 [==============================] - 5s 5ms/step - loss: 0.0055 - acc: 0.9990 - val_loss: 0.0310 - val_acc: 0.9907\n",
      "Epoch 9/10\n",
      "937/937 [==============================] - 5s 5ms/step - loss: 0.0049 - acc: 0.9991 - val_loss: 0.0322 - val_acc: 0.9907\n",
      "Epoch 10/10\n",
      "937/937 [==============================] - 5s 5ms/step - loss: 0.0045 - acc: 0.9992 - val_loss: 0.0318 - val_acc: 0.9904\n"
     ]
    }
   ],
   "source": [
    "# Train using the fit_generator function\n",
    "\n",
    "# Number of steps to use all the train data in a epoch.\n",
    "steps = X_train.shape[0]//64\n",
    "\n",
    "history = model_conv2.fit_generator(batch_generator(X_train_img, y_train, batch_size=64),\n",
    "                                    steps_per_epoch=steps, \n",
    "                                    epochs=10,\n",
    "                                    verbose=1, \n",
    "                                    validation_data=(X_test_img, y_test))\n"
   ]
  },
  {
   "cell_type": "code",
   "execution_count": null,
   "metadata": {
    "collapsed": true
   },
   "outputs": [],
   "source": []
  }
 ],
 "metadata": {
  "anaconda-cloud": {},
  "kernelspec": {
   "display_name": "Python [conda env:tf18]",
   "language": "python",
   "name": "conda-env-tf18-py"
  },
  "language_info": {
   "codemirror_mode": {
    "name": "ipython",
    "version": 3
   },
   "file_extension": ".py",
   "mimetype": "text/x-python",
   "name": "python",
   "nbconvert_exporter": "python",
   "pygments_lexer": "ipython3",
   "version": "3.5.5"
  }
 },
 "nbformat": 4,
 "nbformat_minor": 1
}
